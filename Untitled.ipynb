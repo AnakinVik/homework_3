{
 "cells": [
  {
   "cell_type": "markdown",
   "metadata": {},
   "source": [
    "### Задание 1: Вывести на экран множество уникальных гео-меток всех пользователей."
   ]
  },
  {
   "cell_type": "code",
   "execution_count": 1,
   "metadata": {},
   "outputs": [],
   "source": [
    "ids = {'user1': [213, 213, 213, 15, 213], \n",
    "       'user2': [54, 54, 119, 119, 119], \n",
    "       'user3': [213, 98, 98, 35]}\n",
    "unique_geo_tags = []\n",
    "for geo_tags in ids.values():\n",
    "    unique_geo_tags += geo_tags\n",
    "print('Unique geotags for all users:', set(unique_geo_tags))\n",
    "print('End of program.')  \n"
   ]
  },
  {
   "cell_type": "markdown",
   "metadata": {},
   "source": [
    "### Задание 2: вывести на экран распределение количества слов в запросах в процентном соотношении."
   ]
  },
  {
   "cell_type": "code",
   "execution_count": 2,
   "metadata": {},
   "outputs": [
    {
     "name": "stdout",
     "output_type": "stream",
     "text": [
      "Поисковых запросов, содержащих 3 слова: 57.14 %\n",
      "Поисковых запросов, содержащих 2 слова: 42.86 %\n"
     ]
    }
   ],
   "source": [
    "queries = [\n",
    "    'смотреть сериалы онлайн',\n",
    "    'новости спорта',\n",
    "    'афиша кино',\n",
    "    'курс доллара',\n",
    "    'сериалы этим летом',\n",
    "    'курс по питону',\n",
    "    'сериалы про спорт',\n",
    "]\n",
    "count_words_list = [len(string.split(' ')) for string in queries] # список с кол-вом слов в каждой строке\n",
    "strings = len([line.split(' ') for line in queries]) # кол-во строк  \n",
    "count = {quantity: count_words_list.count(quantity) for quantity in count_words_list}\n",
    "for word_count, quantity in count.items(): \n",
    "    print(f\"Поисковых запросов, содержащих {word_count} слова: {quantity*100/ strings:.2f} %\")\n",
    "    # используем формулу count.values()*100/ strings для преобразования в % \n",
    "   \n"
   ]
  },
  {
   "cell_type": "markdown",
   "metadata": {},
   "source": [
    "### Задание 3: Необходимо дополнить исходную структуру показателем ROI."
   ]
  },
  {
   "cell_type": "code",
   "execution_count": 3,
   "metadata": {},
   "outputs": [
    {
     "data": {
      "text/plain": [
       "{'adwords': {'revenue': 35, 'cost': 34, 'ROI': 2.94},\n",
       " 'facebook': {'revenue': 103, 'cost': 110, 'ROI': -6.36},\n",
       " 'twitter': {'revenue': 11, 'cost': 24, 'ROI': -54.17},\n",
       " 'vk': {'revenue': 103, 'cost': 98, 'ROI': 5.1},\n",
       " 'yandex': {'revenue': 179, 'cost': 153, 'ROI': 16.99}}"
      ]
     },
     "execution_count": 3,
     "metadata": {},
     "output_type": "execute_result"
    }
   ],
   "source": [
    "results = {\n",
    "    'vk': {'revenue': 103, 'cost': 98},\n",
    "    'yandex': {'revenue': 179, 'cost': 153},\n",
    "    'facebook': {'revenue': 103, 'cost': 110},\n",
    "    'adwords': {'revenue': 35, 'cost': 34},\n",
    "    'twitter': {'revenue': 11, 'cost': 24},\n",
    "}\n",
    "\n",
    "results_sort = sorted(results.items()) # сортируем по ключам и значениям\n",
    "# вычисляем ROI по формуле (revenue/cost - 1) * 100 и добавляем для каждого values подсловаря\n",
    "for company, expenses in results.items():\n",
    "        expenses['ROI'] = round((expenses['revenue'] / expenses['cost'] - 1) * 100, 2)\n",
    "# Не вижу смысла менять местами элементы подсловарей, так как на работу программы это никак не повлияет.\n",
    "dict(results_sort)\n"
   ]
  },
  {
   "cell_type": "markdown",
   "metadata": {},
   "source": [
    "### Задание 4: Определить канал с максимальным объемом продаж."
   ]
  },
  {
   "cell_type": "code",
   "execution_count": 4,
   "metadata": {},
   "outputs": [
    {
     "name": "stdout",
     "output_type": "stream",
     "text": [
      "Максимальный объем продаж на рекламном канале: vk\n"
     ]
    }
   ],
   "source": [
    "stats = {'facebook': 12, 'yandex': 115, 'vk': 120, 'google': 99, 'email': 42, 'ok': 98}\n",
    "# Первый вариант решения(после просмотра вебинара по теме, понял что не верное)\n",
    "# inv_stats = {} \n",
    "# for company, volume_of_sales in stats.items():   # инвертируем элементы словаря, добавляя в новый \n",
    "#     inv_stats.setdefault(volume_of_sales, company)\n",
    "# # print(inv_stats)\n",
    "# sort_stats = sorted(inv_stats.items(), reverse = True) # сортировка в обратном порядке\n",
    "# print(F'Максимальный объем продаж на рекламном канале: {sort_stats[0][1]}')\n",
    "\n",
    "\n",
    "stats_sort = sorted(stats.items(), key = lambda company: company[1], reverse = True)\n",
    "print(F'Максимальный объем продаж на рекламном канале: {stats_sort[0][0]}')\n"
   ]
  },
  {
   "cell_type": "markdown",
   "metadata": {},
   "source": [
    "### Задание 5: Составить словарь такого уровня вложенности, какова длина исходного списка."
   ]
  },
  {
   "cell_type": "code",
   "execution_count": 299,
   "metadata": {},
   "outputs": [
    {
     "name": "stdout",
     "output_type": "stream",
     "text": [
      "Задать список из любого кол-ва элементов: 123 3423 324\n",
      "{'123': {'3423': '324'}}\n"
     ]
    }
   ],
   "source": [
    "\n",
    "my_list = input('Задать список из любого кол-ва элементов: ').split(' ')\n",
    "\n",
    "last_elments = dict([my_list[-2:]])  # формируем отдельный словарь из 2 последних элементов списка. \n",
    "\n",
    "final_dict = {}\n",
    "copy_dict = final_dict\n",
    "\n",
    "for per in my_list[:-2]:\n",
    "    copy_dict[per] = {}\n",
    "    copy_dict = copy_dict[per]\n",
    "copy_dict.update(last_elments)      \n",
    "    \n",
    "print(final_dict)\n"
   ]
  },
  {
   "cell_type": "markdown",
   "metadata": {},
   "source": [
    "### Задание 6: "
   ]
  },
  {
   "cell_type": "code",
   "execution_count": 35,
   "metadata": {},
   "outputs": [
    {
     "name": "stdout",
     "output_type": "stream",
     "text": [
      "Введите количество порций: 3\n",
      "сыр: 150 гр\n",
      "томаты: 6 шт\n",
      "огурцы: 60 гр\n",
      "маслины: 30 гр\n",
      "оливковое масло: 60 мл\n",
      "салат: 30 гр\n",
      "перец: 60 гр\n",
      "колбаса: 90 гр\n",
      "бекон: 90 гр\n",
      "оливки: 30 гр\n",
      "тесто: 300 гр\n",
      "лимон: 3 шт\n",
      "вода: 600 мл\n",
      "сахар: 30 гр\n",
      "лайм: 60 гр\n"
     ]
    }
   ],
   "source": [
    "cook_book = {\n",
    "  'салат': [\n",
    "     {'ingridient_name': 'сыр', 'quantity': 50, 'measure': 'гр'},\n",
    "     {'ingridient_name': 'томаты', 'quantity': 2, 'measure': 'шт'},\n",
    "     {'ingridient_name': 'огурцы', 'quantity': 20, 'measure': 'гр'},\n",
    "     {'ingridient_name': 'маслины', 'quantity': 10, 'measure': 'гр'},\n",
    "     {'ingridient_name': 'оливковое масло', 'quantity': 20, 'measure': 'мл'},\n",
    "     {'ingridient_name': 'салат', 'quantity': 10, 'measure': 'гр'},\n",
    "     {'ingridient_name': 'перец', 'quantity': 20, 'measure': 'гр'}\n",
    "    ],\n",
    "  'пицца': [\n",
    "     {'ingridient_name': 'сыр', 'quantity': 20, 'measure': 'гр'},\n",
    "     {'ingridient_name': 'колбаса', 'quantity': 30, 'measure': 'гр'},\n",
    "     {'ingridient_name': 'бекон', 'quantity': 30, 'measure': 'гр'},\n",
    "     {'ingridient_name': 'оливки', 'quantity': 10, 'measure': 'гр'},\n",
    "     {'ingridient_name': 'томаты', 'quantity': 20, 'measure': 'гр'},\n",
    "     {'ingridient_name': 'тесто', 'quantity': 100, 'measure': 'гр'},   \n",
    "    ],\n",
    "  'лимонад': [\n",
    "     {'ingridient_name': 'лимон', 'quantity': 1, 'measure': 'шт'},\n",
    "     {'ingridient_name': 'вода', 'quantity': 200, 'measure': 'мл'},\n",
    "     {'ingridient_name': 'сахар', 'quantity': 10, 'measure': 'гр'},\n",
    "     {'ingridient_name': 'лайм', 'quantity': 20, 'measure': 'гр'},    \n",
    "    ]\n",
    "}\n",
    "\n",
    "number_of_servings = int(input('Введите количество порций: '))\n",
    "\n",
    "common_list = [] \n",
    "\n",
    "result = {} \n",
    "\n",
    "for list_of_dict in cook_book.values():\n",
    "    for line in list_of_dict:\n",
    "        for elements in line.values():\n",
    "            common_list.append(elements)  # формируем словарь со всеми значениями из списка подсловарей cook_book\n",
    "\n",
    "for list_of_tuples in list(zip(common_list[::3], common_list[1::3], common_list[2::3])): \n",
    "    result.setdefault(list_of_tuples[0], (list_of_tuples[1], list_of_tuples[2])) # преобразовываем в словарь с кортежами в значениях\n",
    "# print(res)\n",
    "for roducts, measure in result.items():\n",
    "    print(f'{roducts}: {measure[0]*number_of_servings} {measure[1]}') \n",
    "\n"
   ]
  }
 ],
 "metadata": {
  "kernelspec": {
   "display_name": "Python 3",
   "language": "python",
   "name": "python3"
  },
  "language_info": {
   "codemirror_mode": {
    "name": "ipython",
    "version": 3
   },
   "file_extension": ".py",
   "mimetype": "text/x-python",
   "name": "python",
   "nbconvert_exporter": "python",
   "pygments_lexer": "ipython3",
   "version": "3.8.5"
  }
 },
 "nbformat": 4,
 "nbformat_minor": 4
}
